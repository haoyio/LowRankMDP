{
 "cells": [
  {
   "cell_type": "markdown",
   "metadata": {
    "slideshow": {
     "slide_type": "slide"
    }
   },
   "source": [
    "#Fitting MDPs with Low-Rank Models\n",
    "This notebook shows how to fit the state-action value function to their low-rank models. "
   ]
  },
  {
   "cell_type": "markdown",
   "metadata": {
    "slideshow": {
     "slide_type": "subslide"
    }
   },
   "source": [
    "Note that you must have MATLAB on the machine to use this notebook due to the dependency on an external Robust PCA library developed in MATLAB."
   ]
  },
  {
   "cell_type": "markdown",
   "metadata": {
    "slideshow": {
     "slide_type": "subslide"
    }
   },
   "source": [
    "###Load dependencies"
   ]
  },
  {
   "cell_type": "code",
   "execution_count": null,
   "metadata": {
    "collapsed": false,
    "slideshow": {
     "slide_type": "fragment"
    }
   },
   "outputs": [],
   "source": [
    "push!(LOAD_PATH, \"../mdps\")\n",
    "using MDPs, MATLAB, LowRankModel"
   ]
  },
  {
   "cell_type": "markdown",
   "metadata": {
    "slideshow": {
     "slide_type": "subslide"
    }
   },
   "source": [
    "###Load mountain car problem"
   ]
  },
  {
   "cell_type": "code",
   "execution_count": null,
   "metadata": {
    "collapsed": false,
    "slideshow": {
     "slide_type": "fragment"
    }
   },
   "outputs": [],
   "source": [
    "import MountainCar\n",
    "const mc = MountainCar\n",
    "\n",
    "mdp_mc = MDP(mc.state_space(), mc.action_space(), mc.transition, mc.reward)\n",
    "Qmc = readcsv(\"../data/qmc.csv\")\n",
    "pmc = Policy(Qmc, mdp_mc.A)\n",
    "print(\"\")  # suppress output"
   ]
  },
  {
   "cell_type": "markdown",
   "metadata": {
    "slideshow": {
     "slide_type": "subslide"
    }
   },
   "source": [
    "###Load inverted pendulum problem"
   ]
  },
  {
   "cell_type": "code",
   "execution_count": null,
   "metadata": {
    "collapsed": false,
    "slideshow": {
     "slide_type": "fragment"
    }
   },
   "outputs": [],
   "source": [
    "import InvertedPendulum\n",
    "const ip = InvertedPendulum\n",
    "\n",
    "mdp_ip = MDP(ip.state_space(), ip.action_space(), ip.transition, ip.reward)\n",
    "Qip = readcsv(\"../data/qip.csv\")\n",
    "pip = Policy(Qip, mdp_ip.A)\n",
    "print(\"\")  # suppress output"
   ]
  },
  {
   "cell_type": "markdown",
   "metadata": {
    "slideshow": {
     "slide_type": "slide"
    }
   },
   "source": [
    "###Solve PCP by alternating directions\n",
    "We make use of the exact ALM algorithm for Robust PCA developed in MATLAB by Lin et al. (See paper.)"
   ]
  },
  {
   "cell_type": "code",
   "execution_count": null,
   "metadata": {
    "collapsed": false,
    "slideshow": {
     "slide_type": "fragment"
    }
   },
   "outputs": [],
   "source": [
    "lambda_mc = 1 / sqrt(maximum(size(Qmc)))\n",
    "lambda_ip = 1 / sqrt(maximum(size(Qip)))\n",
    "\n",
    "Lmc, Smc, Imc = mxcall(:exact_alm_rpca, 3, Qmc, lambda_mc, 1e-5)\n",
    "Lip, Sip, Iip = mxcall(:exact_alm_rpca, 3, Qip, lambda_ip, 1e-5)\n",
    "print(\"\")  # suppress output"
   ]
  },
  {
   "cell_type": "markdown",
   "metadata": {
    "slideshow": {
     "slide_type": "slide"
    }
   },
   "source": [
    "###Sparsify and represent low-rank component compactly\n",
    "Rank used in `rankify` is based on Robust PCA results above. \n",
    "\n",
    "To get `Lxx` from `Uxx`, `sxx`, and `Vxx`, simply multiply: \n",
    "\n",
    "`Lxx = Uxx * diagm(sxx) * Vxx'`."
   ]
  },
  {
   "cell_type": "code",
   "execution_count": null,
   "metadata": {
    "collapsed": false,
    "slideshow": {
     "slide_type": "fragment"
    }
   },
   "outputs": [],
   "source": [
    "Umc, smc, Vmc = rankify(Lmc, 11)\n",
    "Smc = sparsify(Smc)\n",
    "\n",
    "Uip, sip, Vip = rankify(Lip, 50)\n",
    "Sip = sparsify(Sip)\n",
    "print(\"\")  # suppress output"
   ]
  },
  {
   "cell_type": "markdown",
   "metadata": {
    "slideshow": {
     "slide_type": "slide"
    }
   },
   "source": [
    "###Generate policies based on low-rank models"
   ]
  },
  {
   "cell_type": "code",
   "execution_count": null,
   "metadata": {
    "collapsed": true,
    "slideshow": {
     "slide_type": "fragment"
    }
   },
   "outputs": [],
   "source": [
    "pmc_lrm = Policy(Umc * diagm(smc) * Vmc' + Smc, mdp_mc.A)\n",
    "pip_lrm = Policy(Uip * diagm(sip) * Vip' + Sip, mdp_ip.A)\n",
    "print(\"\")  # suppress output"
   ]
  },
  {
   "cell_type": "markdown",
   "metadata": {
    "slideshow": {
     "slide_type": "subslide"
    }
   },
   "source": [
    "###Visually compare mountain car policies"
   ]
  },
  {
   "cell_type": "code",
   "execution_count": null,
   "metadata": {
    "collapsed": false,
    "slideshow": {
     "slide_type": "fragment"
    }
   },
   "outputs": [],
   "source": [
    "viz_policies(mdp_mc, pmc, pmc_lrm, mc.XMIN, mc.XMAX, mc.VMIN, mc.VMAX)"
   ]
  },
  {
   "cell_type": "markdown",
   "metadata": {
    "slideshow": {
     "slide_type": "subslide"
    }
   },
   "source": [
    "###Visually compare inverted pendulum policies"
   ]
  },
  {
   "cell_type": "code",
   "execution_count": null,
   "metadata": {
    "collapsed": false,
    "slideshow": {
     "slide_type": "fragment"
    }
   },
   "outputs": [],
   "source": [
    "viz_policies(mdp_ip, pip, pip_lrm, ip.PMIN, ip.PMAX, ip.VMIN, ip.VMAX)"
   ]
  },
  {
   "cell_type": "markdown",
   "metadata": {
    "slideshow": {
     "slide_type": "subslide"
    }
   },
   "source": [
    "###Compare mountain car simulations"
   ]
  },
  {
   "cell_type": "code",
   "execution_count": null,
   "metadata": {
    "collapsed": false,
    "slideshow": {
     "slide_type": "fragment"
    }
   },
   "outputs": [],
   "source": [
    "mc_ss, mc_as = mc.simulation(mdp_mc, pmc, [-0.5, 0.0])\n",
    "mc_ss_lrm, mc_as_lrm = mc.simulation(mdp_mc, pmc_lrm, [-0.5, 0.0])\n",
    "viz_trajectories(mc_ss, mc_as, mc_ss_lrm, mc_as_lrm)"
   ]
  },
  {
   "cell_type": "markdown",
   "metadata": {
    "slideshow": {
     "slide_type": "subslide"
    }
   },
   "source": [
    "###Compare inverted pendulum simulations"
   ]
  },
  {
   "cell_type": "code",
   "execution_count": null,
   "metadata": {
    "collapsed": false,
    "slideshow": {
     "slide_type": "fragment"
    }
   },
   "outputs": [],
   "source": [
    "ip_ss, ip_as = ip.simulation(mdp_ip, pip, [-0.5, 0.0])\n",
    "ip_ss_lrm, ip_as_lrm = ip.simulation(mdp_ip, pip_lrm, [-0.5, 0.0])\n",
    "viz_trajectories(ip_ss, ip_as, ip_ss_lrm, ip_as_lrm)"
   ]
  }
 ],
 "metadata": {
  "celltoolbar": "Slideshow",
  "kernelspec": {
   "display_name": "Julia 0.3.8",
   "language": "julia",
   "name": "julia-0.3"
  },
  "language_info": {
   "name": "julia",
   "version": "0.3.8"
  }
 },
 "nbformat": 4,
 "nbformat_minor": 0
}
